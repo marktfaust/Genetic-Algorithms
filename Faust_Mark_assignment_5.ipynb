{
 "cells": [
  {
   "cell_type": "markdown",
   "metadata": {},
   "source": [
    "# Artificial Intelligence\n",
    "# 464/664\n",
    "# Assignment #5\n",
    "\n",
    "## General Directions for this Assignment\n",
    "\n",
    "00. We're using a Jupyter Notebook environment (tutorial available here: https://jupyter-notebook-beginner-guide.readthedocs.io/en/latest/what_is_jupyter.html),\n",
    "01. Read the entire notebook before beginning your work, \n",
    "02. Output format should be exactly as requested (it is your responsibility to make sure notebook looks as expected on Gradescope),\n",
    "03. Each helper function should be preceeded by documentation (Markdown cell),\n",
    "04. No comments in the code; anything worth mentioning should be included in the documentation,\n",
    "05. Use descriptive variable names,\n",
    "06. Functions should do only one thing,\n",
    "07. Check submission deadline on Gradescope, \n",
    "08. Rename the file to Last_First_assignment_5, \n",
    "09. Submit your notebook (as .ipynb, not PDF) using Gradescope, and\n",
    "10. Do not submit any other files.\n",
    "\n",
    "## Directions _not_ applicable for this Assignment:\n",
    "* Do not use classes,\n",
    "* Keep functions to 20 lines or less (including empty lines so do not add any),\n",
    "* Each helper function should be followed by three assert-style unit tests.\n",
    "\n",
    "## Before You Submit...\n",
    "\n",
    "1. Re-read the general instructions provided above, and\n",
    "2. Hit \"Kernel\"->\"Restart & Run All\"."
   ]
  },
  {
   "cell_type": "markdown",
   "metadata": {},
   "source": [
    "## Import Statements + Constants"
   ]
  },
  {
   "cell_type": "code",
   "execution_count": 1,
   "metadata": {},
   "outputs": [],
   "source": [
    "from copy import deepcopy\n",
    "from random import choice\n",
    "\n",
    "COLOR_LIST = [\"red\", \"blue\", \"green\", \"yellow\"]"
   ]
  },
  {
   "cell_type": "markdown",
   "metadata": {},
   "source": [
    "## Europe Graph"
   ]
  },
  {
   "cell_type": "code",
   "execution_count": 2,
   "metadata": {
    "scrolled": true
   },
   "outputs": [],
   "source": [
    "europe_graph = {\n",
    "    \"nodes\":  [\"Iceland\", \"Ireland\", \"United Kingdom\", \"Portugal\", \"Spain\",\n",
    "                 \"France\", \"Belgium\", \"Netherlands\", \"Luxembourg\", \"Germany\",\n",
    "                 \"Denmark\", \"Norway\", \"Sweden\", \"Finland\", \"Estonia\",\n",
    "                 \"Latvia\", \"Lithuania\", \"Poland\", \"Czech Republic\", \"Austria\",\n",
    "                 \"Liechtenstein\", \"Switzerland\", \"Italy\", \"Malta\", \"Greece\",\n",
    "                 \"Albania\", \"Macedonia\", \"Kosovo\", \"Montenegro\", \"Bosnia Herzegovina\",\n",
    "                 \"Serbia\", \"Croatia\", \"Slovenia\", \"Hungary\", \"Slovakia\",\n",
    "                 \"Belarus\", \"Ukraine\", \"Moldova\", \"Romania\", \"Bulgaria\",\n",
    "                 \"Cyprus\", \"Turkey\", \"Georgia\", \"Armenia\", \"Azerbaijan\",\n",
    "                 \"Russia\" ], \n",
    "    \"edges\": [(0,1), (0,2), (1,2), (2,5), (2,6), (2,7), (2,11), (3,4),\n",
    "                 (4,5), (4,22), (5,6), (5,8), (5,9), (5,21), (5,22),(6,7),\n",
    "                 (6,8), (6,9), (7,9), (8,9), (9,10), (9,12), (9,17), (9,18),\n",
    "                 (9,19), (9,21), (10,11), (10,12), (10,17), (11,12), (11,13), (11,45), \n",
    "                 (12,13), (12,14), (12,15), (12,17), (13,14), (13,45), (14,15),\n",
    "                 (14,45), (15,16), (15,35), (15,45), (16,17), (16,35), (17,18),\n",
    "                 (17,34), (17,35), (17,36), (18,19), (18,34), (19,20), (19,21), \n",
    "                 (19,22), (19,32), (19,33), (19,34), (20,21), (21,22), (22,23),\n",
    "                 (22,24), (22,25), (22,28), (22,29), (22,31), (22,32), (24,25),\n",
    "                 (24,26), (24,39), (24,40), (24,41), (25,26), (25,27), (25,28),\n",
    "                 (26,27), (26,30), (26,39), (27,28), (27,30), (28,29), (28,30),\n",
    "                 (29,30), (29,31), (30,31), (30,33), (30,38), (30,39), (31,32),\n",
    "                 (31,33), (32,33), (33,34), (33,36), (33,38), (34,36), (35,36),\n",
    "                 (35,45), (36,37), (36,38), (36,45), (37,38), (38,39), (39,41),\n",
    "                 (40,41), (41,42), (41,43), (41,44), (42,43), (42,44), (42,45),\n",
    "                 (43,44), (44,45)],\n",
    "    \"coordinates\": [( 18,147), ( 48, 83), ( 64, 90), ( 47, 28), ( 63, 34),\n",
    "                   ( 78, 55), ( 82, 74), ( 84, 80), ( 82, 69), (100, 78),\n",
    "                   ( 94, 97), (110,162), (116,144), (143,149), (140,111),\n",
    "                   (137,102), (136, 95), (122, 78), (110, 67), (112, 60),\n",
    "                   ( 98, 59), ( 93, 55), (102, 35), (108, 14), (130, 22),\n",
    "                   (125, 32), (128, 37), (127, 40), (122, 42), (118, 47),\n",
    "                   (127, 48), (116, 53), (111, 54), (122, 57), (124, 65),\n",
    "                   (146, 87), (158, 65), (148, 57), (138, 54), (137, 41),\n",
    "                   (160, 13), (168, 29), (189, 39), (194, 32), (202, 33),\n",
    "                   (191,118)]}"
   ]
  },
  {
   "cell_type": "markdown",
   "metadata": {},
   "source": [
    "<a id=\"gen_random_population\"></a>\n",
    "## gen_random_population(constraint_graph, size)\n",
    "\n",
    "This function generates a random population of potential solutions to the problem. This is achieved by assigning a random color to each individual within the `size` number of solutions.\n",
    "\n",
    "* **constraint_graph** Dict: the dictionary with keys: nodes, edges, and coordinates.\n",
    "* **solution** List[Tuple[Str][Str]]: a list of (node name, assigned color) tuples\n",
    "\n",
    "\n",
    "**returns** \n",
    "\n",
    "\n",
    "Number of fit pairs within solution."
   ]
  },
  {
   "cell_type": "code",
   "execution_count": 3,
   "metadata": {},
   "outputs": [],
   "source": [
    "def random_population(constraint_graph, size, color_list):\n",
    "    num_nodes = len(constraint_graph[\"nodes\"])\n",
    "    individual = deepcopy(constraint_graph)\n",
    "    individual[\"color\"] = [None] * num_nodes\n",
    "    random_population = [None] * size\n",
    "    for i in range(size):\n",
    "        for j in range(num_nodes):\n",
    "            individual[\"color\"][j] = choice(color_list)\n",
    "        random_population[i] = deepcopy(individual)\n",
    "    return random_population"
   ]
  },
  {
   "cell_type": "markdown",
   "metadata": {},
   "source": [
    "# TEST SANDBOX"
   ]
  },
  {
   "cell_type": "code",
   "execution_count": 8,
   "metadata": {},
   "outputs": [
    {
     "name": "stdout",
     "output_type": "stream",
     "text": [
      "[{'nodes': ['Iceland', 'Ireland', 'United Kingdom', 'Portugal', 'Spain', 'France', 'Belgium', 'Netherlands', 'Luxembourg', 'Germany', 'Denmark', 'Norway', 'Sweden', 'Finland', 'Estonia', 'Latvia', 'Lithuania', 'Poland', 'Czech Republic', 'Austria', 'Liechtenstein', 'Switzerland', 'Italy', 'Malta', 'Greece', 'Albania', 'Macedonia', 'Kosovo', 'Montenegro', 'Bosnia Herzegovina', 'Serbia', 'Croatia', 'Slovenia', 'Hungary', 'Slovakia', 'Belarus', 'Ukraine', 'Moldova', 'Romania', 'Bulgaria', 'Cyprus', 'Turkey', 'Georgia', 'Armenia', 'Azerbaijan', 'Russia'], 'edges': [(0, 1), (0, 2), (1, 2), (2, 5), (2, 6), (2, 7), (2, 11), (3, 4), (4, 5), (4, 22), (5, 6), (5, 8), (5, 9), (5, 21), (5, 22), (6, 7), (6, 8), (6, 9), (7, 9), (8, 9), (9, 10), (9, 12), (9, 17), (9, 18), (9, 19), (9, 21), (10, 11), (10, 12), (10, 17), (11, 12), (11, 13), (11, 45), (12, 13), (12, 14), (12, 15), (12, 17), (13, 14), (13, 45), (14, 15), (14, 45), (15, 16), (15, 35), (15, 45), (16, 17), (16, 35), (17, 18), (17, 34), (17, 35), (17, 36), (18, 19), (18, 34), (19, 20), (19, 21), (19, 22), (19, 32), (19, 33), (19, 34), (20, 21), (21, 22), (22, 23), (22, 24), (22, 25), (22, 28), (22, 29), (22, 31), (22, 32), (24, 25), (24, 26), (24, 39), (24, 40), (24, 41), (25, 26), (25, 27), (25, 28), (26, 27), (26, 30), (26, 39), (27, 28), (27, 30), (28, 29), (28, 30), (29, 30), (29, 31), (30, 31), (30, 33), (30, 38), (30, 39), (31, 32), (31, 33), (32, 33), (33, 34), (33, 36), (33, 38), (34, 36), (35, 36), (35, 45), (36, 37), (36, 38), (36, 45), (37, 38), (38, 39), (39, 41), (40, 41), (41, 42), (41, 43), (41, 44), (42, 43), (42, 44), (42, 45), (43, 44), (44, 45)], 'coordinates': [(18, 147), (48, 83), (64, 90), (47, 28), (63, 34), (78, 55), (82, 74), (84, 80), (82, 69), (100, 78), (94, 97), (110, 162), (116, 144), (143, 149), (140, 111), (137, 102), (136, 95), (122, 78), (110, 67), (112, 60), (98, 59), (93, 55), (102, 35), (108, 14), (130, 22), (125, 32), (128, 37), (127, 40), (122, 42), (118, 47), (127, 48), (116, 53), (111, 54), (122, 57), (124, 65), (146, 87), (158, 65), (148, 57), (138, 54), (137, 41), (160, 13), (168, 29), (189, 39), (194, 32), (202, 33), (191, 118)], 'color': ['red', 'yellow', 'green', 'red', 'red', 'yellow', 'blue', 'green', 'blue', 'blue', 'red', 'yellow', 'yellow', 'red', 'green', 'red', 'blue', 'blue', 'blue', 'green', 'yellow', 'blue', 'blue', 'yellow', 'red', 'green', 'yellow', 'blue', 'blue', 'red', 'green', 'green', 'yellow', 'green', 'blue', 'blue', 'red', 'green', 'yellow', 'green', 'green', 'blue', 'red', 'green', 'yellow', 'red']}, {'nodes': ['Iceland', 'Ireland', 'United Kingdom', 'Portugal', 'Spain', 'France', 'Belgium', 'Netherlands', 'Luxembourg', 'Germany', 'Denmark', 'Norway', 'Sweden', 'Finland', 'Estonia', 'Latvia', 'Lithuania', 'Poland', 'Czech Republic', 'Austria', 'Liechtenstein', 'Switzerland', 'Italy', 'Malta', 'Greece', 'Albania', 'Macedonia', 'Kosovo', 'Montenegro', 'Bosnia Herzegovina', 'Serbia', 'Croatia', 'Slovenia', 'Hungary', 'Slovakia', 'Belarus', 'Ukraine', 'Moldova', 'Romania', 'Bulgaria', 'Cyprus', 'Turkey', 'Georgia', 'Armenia', 'Azerbaijan', 'Russia'], 'edges': [(0, 1), (0, 2), (1, 2), (2, 5), (2, 6), (2, 7), (2, 11), (3, 4), (4, 5), (4, 22), (5, 6), (5, 8), (5, 9), (5, 21), (5, 22), (6, 7), (6, 8), (6, 9), (7, 9), (8, 9), (9, 10), (9, 12), (9, 17), (9, 18), (9, 19), (9, 21), (10, 11), (10, 12), (10, 17), (11, 12), (11, 13), (11, 45), (12, 13), (12, 14), (12, 15), (12, 17), (13, 14), (13, 45), (14, 15), (14, 45), (15, 16), (15, 35), (15, 45), (16, 17), (16, 35), (17, 18), (17, 34), (17, 35), (17, 36), (18, 19), (18, 34), (19, 20), (19, 21), (19, 22), (19, 32), (19, 33), (19, 34), (20, 21), (21, 22), (22, 23), (22, 24), (22, 25), (22, 28), (22, 29), (22, 31), (22, 32), (24, 25), (24, 26), (24, 39), (24, 40), (24, 41), (25, 26), (25, 27), (25, 28), (26, 27), (26, 30), (26, 39), (27, 28), (27, 30), (28, 29), (28, 30), (29, 30), (29, 31), (30, 31), (30, 33), (30, 38), (30, 39), (31, 32), (31, 33), (32, 33), (33, 34), (33, 36), (33, 38), (34, 36), (35, 36), (35, 45), (36, 37), (36, 38), (36, 45), (37, 38), (38, 39), (39, 41), (40, 41), (41, 42), (41, 43), (41, 44), (42, 43), (42, 44), (42, 45), (43, 44), (44, 45)], 'coordinates': [(18, 147), (48, 83), (64, 90), (47, 28), (63, 34), (78, 55), (82, 74), (84, 80), (82, 69), (100, 78), (94, 97), (110, 162), (116, 144), (143, 149), (140, 111), (137, 102), (136, 95), (122, 78), (110, 67), (112, 60), (98, 59), (93, 55), (102, 35), (108, 14), (130, 22), (125, 32), (128, 37), (127, 40), (122, 42), (118, 47), (127, 48), (116, 53), (111, 54), (122, 57), (124, 65), (146, 87), (158, 65), (148, 57), (138, 54), (137, 41), (160, 13), (168, 29), (189, 39), (194, 32), (202, 33), (191, 118)], 'color': ['blue', 'green', 'green', 'green', 'blue', 'green', 'green', 'green', 'yellow', 'red', 'yellow', 'red', 'blue', 'red', 'blue', 'yellow', 'blue', 'yellow', 'yellow', 'yellow', 'yellow', 'blue', 'red', 'green', 'green', 'yellow', 'red', 'red', 'red', 'yellow', 'yellow', 'yellow', 'green', 'blue', 'green', 'yellow', 'blue', 'green', 'blue', 'green', 'blue', 'green', 'green', 'red', 'red', 'blue']}, {'nodes': ['Iceland', 'Ireland', 'United Kingdom', 'Portugal', 'Spain', 'France', 'Belgium', 'Netherlands', 'Luxembourg', 'Germany', 'Denmark', 'Norway', 'Sweden', 'Finland', 'Estonia', 'Latvia', 'Lithuania', 'Poland', 'Czech Republic', 'Austria', 'Liechtenstein', 'Switzerland', 'Italy', 'Malta', 'Greece', 'Albania', 'Macedonia', 'Kosovo', 'Montenegro', 'Bosnia Herzegovina', 'Serbia', 'Croatia', 'Slovenia', 'Hungary', 'Slovakia', 'Belarus', 'Ukraine', 'Moldova', 'Romania', 'Bulgaria', 'Cyprus', 'Turkey', 'Georgia', 'Armenia', 'Azerbaijan', 'Russia'], 'edges': [(0, 1), (0, 2), (1, 2), (2, 5), (2, 6), (2, 7), (2, 11), (3, 4), (4, 5), (4, 22), (5, 6), (5, 8), (5, 9), (5, 21), (5, 22), (6, 7), (6, 8), (6, 9), (7, 9), (8, 9), (9, 10), (9, 12), (9, 17), (9, 18), (9, 19), (9, 21), (10, 11), (10, 12), (10, 17), (11, 12), (11, 13), (11, 45), (12, 13), (12, 14), (12, 15), (12, 17), (13, 14), (13, 45), (14, 15), (14, 45), (15, 16), (15, 35), (15, 45), (16, 17), (16, 35), (17, 18), (17, 34), (17, 35), (17, 36), (18, 19), (18, 34), (19, 20), (19, 21), (19, 22), (19, 32), (19, 33), (19, 34), (20, 21), (21, 22), (22, 23), (22, 24), (22, 25), (22, 28), (22, 29), (22, 31), (22, 32), (24, 25), (24, 26), (24, 39), (24, 40), (24, 41), (25, 26), (25, 27), (25, 28), (26, 27), (26, 30), (26, 39), (27, 28), (27, 30), (28, 29), (28, 30), (29, 30), (29, 31), (30, 31), (30, 33), (30, 38), (30, 39), (31, 32), (31, 33), (32, 33), (33, 34), (33, 36), (33, 38), (34, 36), (35, 36), (35, 45), (36, 37), (36, 38), (36, 45), (37, 38), (38, 39), (39, 41), (40, 41), (41, 42), (41, 43), (41, 44), (42, 43), (42, 44), (42, 45), (43, 44), (44, 45)], 'coordinates': [(18, 147), (48, 83), (64, 90), (47, 28), (63, 34), (78, 55), (82, 74), (84, 80), (82, 69), (100, 78), (94, 97), (110, 162), (116, 144), (143, 149), (140, 111), (137, 102), (136, 95), (122, 78), (110, 67), (112, 60), (98, 59), (93, 55), (102, 35), (108, 14), (130, 22), (125, 32), (128, 37), (127, 40), (122, 42), (118, 47), (127, 48), (116, 53), (111, 54), (122, 57), (124, 65), (146, 87), (158, 65), (148, 57), (138, 54), (137, 41), (160, 13), (168, 29), (189, 39), (194, 32), (202, 33), (191, 118)], 'color': ['yellow', 'green', 'red', 'blue', 'red', 'blue', 'green', 'blue', 'green', 'red', 'red', 'yellow', 'red', 'green', 'blue', 'yellow', 'yellow', 'green', 'blue', 'green', 'yellow', 'blue', 'green', 'red', 'green', 'green', 'blue', 'blue', 'yellow', 'red', 'yellow', 'red', 'green', 'yellow', 'yellow', 'red', 'yellow', 'blue', 'green', 'red', 'yellow', 'green', 'red', 'blue', 'red', 'red']}, {'nodes': ['Iceland', 'Ireland', 'United Kingdom', 'Portugal', 'Spain', 'France', 'Belgium', 'Netherlands', 'Luxembourg', 'Germany', 'Denmark', 'Norway', 'Sweden', 'Finland', 'Estonia', 'Latvia', 'Lithuania', 'Poland', 'Czech Republic', 'Austria', 'Liechtenstein', 'Switzerland', 'Italy', 'Malta', 'Greece', 'Albania', 'Macedonia', 'Kosovo', 'Montenegro', 'Bosnia Herzegovina', 'Serbia', 'Croatia', 'Slovenia', 'Hungary', 'Slovakia', 'Belarus', 'Ukraine', 'Moldova', 'Romania', 'Bulgaria', 'Cyprus', 'Turkey', 'Georgia', 'Armenia', 'Azerbaijan', 'Russia'], 'edges': [(0, 1), (0, 2), (1, 2), (2, 5), (2, 6), (2, 7), (2, 11), (3, 4), (4, 5), (4, 22), (5, 6), (5, 8), (5, 9), (5, 21), (5, 22), (6, 7), (6, 8), (6, 9), (7, 9), (8, 9), (9, 10), (9, 12), (9, 17), (9, 18), (9, 19), (9, 21), (10, 11), (10, 12), (10, 17), (11, 12), (11, 13), (11, 45), (12, 13), (12, 14), (12, 15), (12, 17), (13, 14), (13, 45), (14, 15), (14, 45), (15, 16), (15, 35), (15, 45), (16, 17), (16, 35), (17, 18), (17, 34), (17, 35), (17, 36), (18, 19), (18, 34), (19, 20), (19, 21), (19, 22), (19, 32), (19, 33), (19, 34), (20, 21), (21, 22), (22, 23), (22, 24), (22, 25), (22, 28), (22, 29), (22, 31), (22, 32), (24, 25), (24, 26), (24, 39), (24, 40), (24, 41), (25, 26), (25, 27), (25, 28), (26, 27), (26, 30), (26, 39), (27, 28), (27, 30), (28, 29), (28, 30), (29, 30), (29, 31), (30, 31), (30, 33), (30, 38), (30, 39), (31, 32), (31, 33), (32, 33), (33, 34), (33, 36), (33, 38), (34, 36), (35, 36), (35, 45), (36, 37), (36, 38), (36, 45), (37, 38), (38, 39), (39, 41), (40, 41), (41, 42), (41, 43), (41, 44), (42, 43), (42, 44), (42, 45), (43, 44), (44, 45)], 'coordinates': [(18, 147), (48, 83), (64, 90), (47, 28), (63, 34), (78, 55), (82, 74), (84, 80), (82, 69), (100, 78), (94, 97), (110, 162), (116, 144), (143, 149), (140, 111), (137, 102), (136, 95), (122, 78), (110, 67), (112, 60), (98, 59), (93, 55), (102, 35), (108, 14), (130, 22), (125, 32), (128, 37), (127, 40), (122, 42), (118, 47), (127, 48), (116, 53), (111, 54), (122, 57), (124, 65), (146, 87), (158, 65), (148, 57), (138, 54), (137, 41), (160, 13), (168, 29), (189, 39), (194, 32), (202, 33), (191, 118)], 'color': ['green', 'yellow', 'blue', 'yellow', 'yellow', 'yellow', 'blue', 'blue', 'green', 'green', 'green', 'yellow', 'blue', 'yellow', 'yellow', 'green', 'yellow', 'green', 'green', 'red', 'yellow', 'red', 'yellow', 'yellow', 'red', 'yellow', 'yellow', 'green', 'green', 'green', 'green', 'red', 'red', 'yellow', 'yellow', 'red', 'green', 'yellow', 'blue', 'blue', 'yellow', 'green', 'blue', 'red', 'red', 'yellow']}, {'nodes': ['Iceland', 'Ireland', 'United Kingdom', 'Portugal', 'Spain', 'France', 'Belgium', 'Netherlands', 'Luxembourg', 'Germany', 'Denmark', 'Norway', 'Sweden', 'Finland', 'Estonia', 'Latvia', 'Lithuania', 'Poland', 'Czech Republic', 'Austria', 'Liechtenstein', 'Switzerland', 'Italy', 'Malta', 'Greece', 'Albania', 'Macedonia', 'Kosovo', 'Montenegro', 'Bosnia Herzegovina', 'Serbia', 'Croatia', 'Slovenia', 'Hungary', 'Slovakia', 'Belarus', 'Ukraine', 'Moldova', 'Romania', 'Bulgaria', 'Cyprus', 'Turkey', 'Georgia', 'Armenia', 'Azerbaijan', 'Russia'], 'edges': [(0, 1), (0, 2), (1, 2), (2, 5), (2, 6), (2, 7), (2, 11), (3, 4), (4, 5), (4, 22), (5, 6), (5, 8), (5, 9), (5, 21), (5, 22), (6, 7), (6, 8), (6, 9), (7, 9), (8, 9), (9, 10), (9, 12), (9, 17), (9, 18), (9, 19), (9, 21), (10, 11), (10, 12), (10, 17), (11, 12), (11, 13), (11, 45), (12, 13), (12, 14), (12, 15), (12, 17), (13, 14), (13, 45), (14, 15), (14, 45), (15, 16), (15, 35), (15, 45), (16, 17), (16, 35), (17, 18), (17, 34), (17, 35), (17, 36), (18, 19), (18, 34), (19, 20), (19, 21), (19, 22), (19, 32), (19, 33), (19, 34), (20, 21), (21, 22), (22, 23), (22, 24), (22, 25), (22, 28), (22, 29), (22, 31), (22, 32), (24, 25), (24, 26), (24, 39), (24, 40), (24, 41), (25, 26), (25, 27), (25, 28), (26, 27), (26, 30), (26, 39), (27, 28), (27, 30), (28, 29), (28, 30), (29, 30), (29, 31), (30, 31), (30, 33), (30, 38), (30, 39), (31, 32), (31, 33), (32, 33), (33, 34), (33, 36), (33, 38), (34, 36), (35, 36), (35, 45), (36, 37), (36, 38), (36, 45), (37, 38), (38, 39), (39, 41), (40, 41), (41, 42), (41, 43), (41, 44), (42, 43), (42, 44), (42, 45), (43, 44), (44, 45)], 'coordinates': [(18, 147), (48, 83), (64, 90), (47, 28), (63, 34), (78, 55), (82, 74), (84, 80), (82, 69), (100, 78), (94, 97), (110, 162), (116, 144), (143, 149), (140, 111), (137, 102), (136, 95), (122, 78), (110, 67), (112, 60), (98, 59), (93, 55), (102, 35), (108, 14), (130, 22), (125, 32), (128, 37), (127, 40), (122, 42), (118, 47), (127, 48), (116, 53), (111, 54), (122, 57), (124, 65), (146, 87), (158, 65), (148, 57), (138, 54), (137, 41), (160, 13), (168, 29), (189, 39), (194, 32), (202, 33), (191, 118)], 'color': ['red', 'green', 'red', 'red', 'blue', 'blue', 'red', 'green', 'blue', 'green', 'red', 'red', 'yellow', 'blue', 'yellow', 'red', 'red', 'red', 'blue', 'blue', 'yellow', 'yellow', 'red', 'red', 'blue', 'yellow', 'blue', 'green', 'blue', 'green', 'green', 'blue', 'green', 'blue', 'blue', 'red', 'blue', 'red', 'red', 'red', 'blue', 'yellow', 'yellow', 'red', 'red', 'red']}, {'nodes': ['Iceland', 'Ireland', 'United Kingdom', 'Portugal', 'Spain', 'France', 'Belgium', 'Netherlands', 'Luxembourg', 'Germany', 'Denmark', 'Norway', 'Sweden', 'Finland', 'Estonia', 'Latvia', 'Lithuania', 'Poland', 'Czech Republic', 'Austria', 'Liechtenstein', 'Switzerland', 'Italy', 'Malta', 'Greece', 'Albania', 'Macedonia', 'Kosovo', 'Montenegro', 'Bosnia Herzegovina', 'Serbia', 'Croatia', 'Slovenia', 'Hungary', 'Slovakia', 'Belarus', 'Ukraine', 'Moldova', 'Romania', 'Bulgaria', 'Cyprus', 'Turkey', 'Georgia', 'Armenia', 'Azerbaijan', 'Russia'], 'edges': [(0, 1), (0, 2), (1, 2), (2, 5), (2, 6), (2, 7), (2, 11), (3, 4), (4, 5), (4, 22), (5, 6), (5, 8), (5, 9), (5, 21), (5, 22), (6, 7), (6, 8), (6, 9), (7, 9), (8, 9), (9, 10), (9, 12), (9, 17), (9, 18), (9, 19), (9, 21), (10, 11), (10, 12), (10, 17), (11, 12), (11, 13), (11, 45), (12, 13), (12, 14), (12, 15), (12, 17), (13, 14), (13, 45), (14, 15), (14, 45), (15, 16), (15, 35), (15, 45), (16, 17), (16, 35), (17, 18), (17, 34), (17, 35), (17, 36), (18, 19), (18, 34), (19, 20), (19, 21), (19, 22), (19, 32), (19, 33), (19, 34), (20, 21), (21, 22), (22, 23), (22, 24), (22, 25), (22, 28), (22, 29), (22, 31), (22, 32), (24, 25), (24, 26), (24, 39), (24, 40), (24, 41), (25, 26), (25, 27), (25, 28), (26, 27), (26, 30), (26, 39), (27, 28), (27, 30), (28, 29), (28, 30), (29, 30), (29, 31), (30, 31), (30, 33), (30, 38), (30, 39), (31, 32), (31, 33), (32, 33), (33, 34), (33, 36), (33, 38), (34, 36), (35, 36), (35, 45), (36, 37), (36, 38), (36, 45), (37, 38), (38, 39), (39, 41), (40, 41), (41, 42), (41, 43), (41, 44), (42, 43), (42, 44), (42, 45), (43, 44), (44, 45)], 'coordinates': [(18, 147), (48, 83), (64, 90), (47, 28), (63, 34), (78, 55), (82, 74), (84, 80), (82, 69), (100, 78), (94, 97), (110, 162), (116, 144), (143, 149), (140, 111), (137, 102), (136, 95), (122, 78), (110, 67), (112, 60), (98, 59), (93, 55), (102, 35), (108, 14), (130, 22), (125, 32), (128, 37), (127, 40), (122, 42), (118, 47), (127, 48), (116, 53), (111, 54), (122, 57), (124, 65), (146, 87), (158, 65), (148, 57), (138, 54), (137, 41), (160, 13), (168, 29), (189, 39), (194, 32), (202, 33), (191, 118)], 'color': ['blue', 'blue', 'yellow', 'red', 'yellow', 'blue', 'red', 'yellow', 'green', 'red', 'blue', 'red', 'green', 'red', 'red', 'green', 'red', 'green', 'yellow', 'red', 'red', 'yellow', 'yellow', 'blue', 'blue', 'yellow', 'yellow', 'blue', 'green', 'red', 'green', 'blue', 'red', 'green', 'blue', 'green', 'green', 'blue', 'yellow', 'red', 'green', 'blue', 'green', 'red', 'yellow', 'yellow']}, {'nodes': ['Iceland', 'Ireland', 'United Kingdom', 'Portugal', 'Spain', 'France', 'Belgium', 'Netherlands', 'Luxembourg', 'Germany', 'Denmark', 'Norway', 'Sweden', 'Finland', 'Estonia', 'Latvia', 'Lithuania', 'Poland', 'Czech Republic', 'Austria', 'Liechtenstein', 'Switzerland', 'Italy', 'Malta', 'Greece', 'Albania', 'Macedonia', 'Kosovo', 'Montenegro', 'Bosnia Herzegovina', 'Serbia', 'Croatia', 'Slovenia', 'Hungary', 'Slovakia', 'Belarus', 'Ukraine', 'Moldova', 'Romania', 'Bulgaria', 'Cyprus', 'Turkey', 'Georgia', 'Armenia', 'Azerbaijan', 'Russia'], 'edges': [(0, 1), (0, 2), (1, 2), (2, 5), (2, 6), (2, 7), (2, 11), (3, 4), (4, 5), (4, 22), (5, 6), (5, 8), (5, 9), (5, 21), (5, 22), (6, 7), (6, 8), (6, 9), (7, 9), (8, 9), (9, 10), (9, 12), (9, 17), (9, 18), (9, 19), (9, 21), (10, 11), (10, 12), (10, 17), (11, 12), (11, 13), (11, 45), (12, 13), (12, 14), (12, 15), (12, 17), (13, 14), (13, 45), (14, 15), (14, 45), (15, 16), (15, 35), (15, 45), (16, 17), (16, 35), (17, 18), (17, 34), (17, 35), (17, 36), (18, 19), (18, 34), (19, 20), (19, 21), (19, 22), (19, 32), (19, 33), (19, 34), (20, 21), (21, 22), (22, 23), (22, 24), (22, 25), (22, 28), (22, 29), (22, 31), (22, 32), (24, 25), (24, 26), (24, 39), (24, 40), (24, 41), (25, 26), (25, 27), (25, 28), (26, 27), (26, 30), (26, 39), (27, 28), (27, 30), (28, 29), (28, 30), (29, 30), (29, 31), (30, 31), (30, 33), (30, 38), (30, 39), (31, 32), (31, 33), (32, 33), (33, 34), (33, 36), (33, 38), (34, 36), (35, 36), (35, 45), (36, 37), (36, 38), (36, 45), (37, 38), (38, 39), (39, 41), (40, 41), (41, 42), (41, 43), (41, 44), (42, 43), (42, 44), (42, 45), (43, 44), (44, 45)], 'coordinates': [(18, 147), (48, 83), (64, 90), (47, 28), (63, 34), (78, 55), (82, 74), (84, 80), (82, 69), (100, 78), (94, 97), (110, 162), (116, 144), (143, 149), (140, 111), (137, 102), (136, 95), (122, 78), (110, 67), (112, 60), (98, 59), (93, 55), (102, 35), (108, 14), (130, 22), (125, 32), (128, 37), (127, 40), (122, 42), (118, 47), (127, 48), (116, 53), (111, 54), (122, 57), (124, 65), (146, 87), (158, 65), (148, 57), (138, 54), (137, 41), (160, 13), (168, 29), (189, 39), (194, 32), (202, 33), (191, 118)], 'color': ['yellow', 'blue', 'yellow', 'blue', 'red', 'blue', 'red', 'red', 'red', 'blue', 'blue', 'blue', 'blue', 'red', 'green', 'green', 'blue', 'green', 'red', 'red', 'red', 'red', 'green', 'red', 'yellow', 'yellow', 'green', 'green', 'yellow', 'red', 'yellow', 'green', 'yellow', 'red', 'red', 'green', 'green', 'yellow', 'green', 'blue', 'red', 'yellow', 'yellow', 'yellow', 'blue', 'blue']}, {'nodes': ['Iceland', 'Ireland', 'United Kingdom', 'Portugal', 'Spain', 'France', 'Belgium', 'Netherlands', 'Luxembourg', 'Germany', 'Denmark', 'Norway', 'Sweden', 'Finland', 'Estonia', 'Latvia', 'Lithuania', 'Poland', 'Czech Republic', 'Austria', 'Liechtenstein', 'Switzerland', 'Italy', 'Malta', 'Greece', 'Albania', 'Macedonia', 'Kosovo', 'Montenegro', 'Bosnia Herzegovina', 'Serbia', 'Croatia', 'Slovenia', 'Hungary', 'Slovakia', 'Belarus', 'Ukraine', 'Moldova', 'Romania', 'Bulgaria', 'Cyprus', 'Turkey', 'Georgia', 'Armenia', 'Azerbaijan', 'Russia'], 'edges': [(0, 1), (0, 2), (1, 2), (2, 5), (2, 6), (2, 7), (2, 11), (3, 4), (4, 5), (4, 22), (5, 6), (5, 8), (5, 9), (5, 21), (5, 22), (6, 7), (6, 8), (6, 9), (7, 9), (8, 9), (9, 10), (9, 12), (9, 17), (9, 18), (9, 19), (9, 21), (10, 11), (10, 12), (10, 17), (11, 12), (11, 13), (11, 45), (12, 13), (12, 14), (12, 15), (12, 17), (13, 14), (13, 45), (14, 15), (14, 45), (15, 16), (15, 35), (15, 45), (16, 17), (16, 35), (17, 18), (17, 34), (17, 35), (17, 36), (18, 19), (18, 34), (19, 20), (19, 21), (19, 22), (19, 32), (19, 33), (19, 34), (20, 21), (21, 22), (22, 23), (22, 24), (22, 25), (22, 28), (22, 29), (22, 31), (22, 32), (24, 25), (24, 26), (24, 39), (24, 40), (24, 41), (25, 26), (25, 27), (25, 28), (26, 27), (26, 30), (26, 39), (27, 28), (27, 30), (28, 29), (28, 30), (29, 30), (29, 31), (30, 31), (30, 33), (30, 38), (30, 39), (31, 32), (31, 33), (32, 33), (33, 34), (33, 36), (33, 38), (34, 36), (35, 36), (35, 45), (36, 37), (36, 38), (36, 45), (37, 38), (38, 39), (39, 41), (40, 41), (41, 42), (41, 43), (41, 44), (42, 43), (42, 44), (42, 45), (43, 44), (44, 45)], 'coordinates': [(18, 147), (48, 83), (64, 90), (47, 28), (63, 34), (78, 55), (82, 74), (84, 80), (82, 69), (100, 78), (94, 97), (110, 162), (116, 144), (143, 149), (140, 111), (137, 102), (136, 95), (122, 78), (110, 67), (112, 60), (98, 59), (93, 55), (102, 35), (108, 14), (130, 22), (125, 32), (128, 37), (127, 40), (122, 42), (118, 47), (127, 48), (116, 53), (111, 54), (122, 57), (124, 65), (146, 87), (158, 65), (148, 57), (138, 54), (137, 41), (160, 13), (168, 29), (189, 39), (194, 32), (202, 33), (191, 118)], 'color': ['green', 'red', 'green', 'green', 'blue', 'green', 'red', 'blue', 'green', 'blue', 'yellow', 'red', 'red', 'yellow', 'green', 'blue', 'green', 'green', 'blue', 'blue', 'yellow', 'yellow', 'blue', 'red', 'yellow', 'green', 'yellow', 'red', 'green', 'red', 'blue', 'red', 'blue', 'yellow', 'green', 'blue', 'yellow', 'red', 'green', 'green', 'yellow', 'green', 'green', 'red', 'blue', 'green']}, {'nodes': ['Iceland', 'Ireland', 'United Kingdom', 'Portugal', 'Spain', 'France', 'Belgium', 'Netherlands', 'Luxembourg', 'Germany', 'Denmark', 'Norway', 'Sweden', 'Finland', 'Estonia', 'Latvia', 'Lithuania', 'Poland', 'Czech Republic', 'Austria', 'Liechtenstein', 'Switzerland', 'Italy', 'Malta', 'Greece', 'Albania', 'Macedonia', 'Kosovo', 'Montenegro', 'Bosnia Herzegovina', 'Serbia', 'Croatia', 'Slovenia', 'Hungary', 'Slovakia', 'Belarus', 'Ukraine', 'Moldova', 'Romania', 'Bulgaria', 'Cyprus', 'Turkey', 'Georgia', 'Armenia', 'Azerbaijan', 'Russia'], 'edges': [(0, 1), (0, 2), (1, 2), (2, 5), (2, 6), (2, 7), (2, 11), (3, 4), (4, 5), (4, 22), (5, 6), (5, 8), (5, 9), (5, 21), (5, 22), (6, 7), (6, 8), (6, 9), (7, 9), (8, 9), (9, 10), (9, 12), (9, 17), (9, 18), (9, 19), (9, 21), (10, 11), (10, 12), (10, 17), (11, 12), (11, 13), (11, 45), (12, 13), (12, 14), (12, 15), (12, 17), (13, 14), (13, 45), (14, 15), (14, 45), (15, 16), (15, 35), (15, 45), (16, 17), (16, 35), (17, 18), (17, 34), (17, 35), (17, 36), (18, 19), (18, 34), (19, 20), (19, 21), (19, 22), (19, 32), (19, 33), (19, 34), (20, 21), (21, 22), (22, 23), (22, 24), (22, 25), (22, 28), (22, 29), (22, 31), (22, 32), (24, 25), (24, 26), (24, 39), (24, 40), (24, 41), (25, 26), (25, 27), (25, 28), (26, 27), (26, 30), (26, 39), (27, 28), (27, 30), (28, 29), (28, 30), (29, 30), (29, 31), (30, 31), (30, 33), (30, 38), (30, 39), (31, 32), (31, 33), (32, 33), (33, 34), (33, 36), (33, 38), (34, 36), (35, 36), (35, 45), (36, 37), (36, 38), (36, 45), (37, 38), (38, 39), (39, 41), (40, 41), (41, 42), (41, 43), (41, 44), (42, 43), (42, 44), (42, 45), (43, 44), (44, 45)], 'coordinates': [(18, 147), (48, 83), (64, 90), (47, 28), (63, 34), (78, 55), (82, 74), (84, 80), (82, 69), (100, 78), (94, 97), (110, 162), (116, 144), (143, 149), (140, 111), (137, 102), (136, 95), (122, 78), (110, 67), (112, 60), (98, 59), (93, 55), (102, 35), (108, 14), (130, 22), (125, 32), (128, 37), (127, 40), (122, 42), (118, 47), (127, 48), (116, 53), (111, 54), (122, 57), (124, 65), (146, 87), (158, 65), (148, 57), (138, 54), (137, 41), (160, 13), (168, 29), (189, 39), (194, 32), (202, 33), (191, 118)], 'color': ['red', 'red', 'red', 'blue', 'blue', 'blue', 'red', 'green', 'green', 'green', 'green', 'blue', 'blue', 'blue', 'yellow', 'blue', 'red', 'green', 'yellow', 'red', 'red', 'yellow', 'red', 'green', 'blue', 'red', 'red', 'red', 'red', 'green', 'yellow', 'blue', 'blue', 'green', 'red', 'blue', 'green', 'yellow', 'green', 'red', 'blue', 'blue', 'green', 'green', 'yellow', 'red']}, {'nodes': ['Iceland', 'Ireland', 'United Kingdom', 'Portugal', 'Spain', 'France', 'Belgium', 'Netherlands', 'Luxembourg', 'Germany', 'Denmark', 'Norway', 'Sweden', 'Finland', 'Estonia', 'Latvia', 'Lithuania', 'Poland', 'Czech Republic', 'Austria', 'Liechtenstein', 'Switzerland', 'Italy', 'Malta', 'Greece', 'Albania', 'Macedonia', 'Kosovo', 'Montenegro', 'Bosnia Herzegovina', 'Serbia', 'Croatia', 'Slovenia', 'Hungary', 'Slovakia', 'Belarus', 'Ukraine', 'Moldova', 'Romania', 'Bulgaria', 'Cyprus', 'Turkey', 'Georgia', 'Armenia', 'Azerbaijan', 'Russia'], 'edges': [(0, 1), (0, 2), (1, 2), (2, 5), (2, 6), (2, 7), (2, 11), (3, 4), (4, 5), (4, 22), (5, 6), (5, 8), (5, 9), (5, 21), (5, 22), (6, 7), (6, 8), (6, 9), (7, 9), (8, 9), (9, 10), (9, 12), (9, 17), (9, 18), (9, 19), (9, 21), (10, 11), (10, 12), (10, 17), (11, 12), (11, 13), (11, 45), (12, 13), (12, 14), (12, 15), (12, 17), (13, 14), (13, 45), (14, 15), (14, 45), (15, 16), (15, 35), (15, 45), (16, 17), (16, 35), (17, 18), (17, 34), (17, 35), (17, 36), (18, 19), (18, 34), (19, 20), (19, 21), (19, 22), (19, 32), (19, 33), (19, 34), (20, 21), (21, 22), (22, 23), (22, 24), (22, 25), (22, 28), (22, 29), (22, 31), (22, 32), (24, 25), (24, 26), (24, 39), (24, 40), (24, 41), (25, 26), (25, 27), (25, 28), (26, 27), (26, 30), (26, 39), (27, 28), (27, 30), (28, 29), (28, 30), (29, 30), (29, 31), (30, 31), (30, 33), (30, 38), (30, 39), (31, 32), (31, 33), (32, 33), (33, 34), (33, 36), (33, 38), (34, 36), (35, 36), (35, 45), (36, 37), (36, 38), (36, 45), (37, 38), (38, 39), (39, 41), (40, 41), (41, 42), (41, 43), (41, 44), (42, 43), (42, 44), (42, 45), (43, 44), (44, 45)], 'coordinates': [(18, 147), (48, 83), (64, 90), (47, 28), (63, 34), (78, 55), (82, 74), (84, 80), (82, 69), (100, 78), (94, 97), (110, 162), (116, 144), (143, 149), (140, 111), (137, 102), (136, 95), (122, 78), (110, 67), (112, 60), (98, 59), (93, 55), (102, 35), (108, 14), (130, 22), (125, 32), (128, 37), (127, 40), (122, 42), (118, 47), (127, 48), (116, 53), (111, 54), (122, 57), (124, 65), (146, 87), (158, 65), (148, 57), (138, 54), (137, 41), (160, 13), (168, 29), (189, 39), (194, 32), (202, 33), (191, 118)], 'color': ['green', 'red', 'red', 'red', 'red', 'red', 'green', 'blue', 'red', 'blue', 'green', 'yellow', 'yellow', 'blue', 'red', 'green', 'yellow', 'red', 'blue', 'green', 'yellow', 'yellow', 'blue', 'red', 'green', 'green', 'red', 'red', 'red', 'blue', 'yellow', 'blue', 'green', 'red', 'red', 'blue', 'red', 'blue', 'blue', 'yellow', 'blue', 'green', 'yellow', 'red', 'red', 'red']}]\n"
     ]
    }
   ],
   "source": [
    "initial_population = random_population(europe_graph, 10, COLOR_LIST)\n",
    "print(initial_population)"
   ]
  },
  {
   "cell_type": "markdown",
   "metadata": {},
   "source": [
    "<a id=\"fitness_function\"></a>\n",
    "## fitness_function(constraint_graph, solution)\n",
    "\n",
    "This function counts the number of fit pairs within the given graph. A \"fit\" pair is defined as one in which its nodes are not of the same color.\n",
    "\n",
    "* **constraint_graph** Dict: the dictionary with keys: nodes, edges, and coordinates.\n",
    "* **solution** List[Tuple[Str][Str]]: a list of (node name, assigned color) tuples\n",
    "\n",
    "\n",
    "**returns** \n",
    "\n",
    "\n",
    "Number of fit pairs within solution."
   ]
  },
  {
   "cell_type": "code",
   "execution_count": 5,
   "metadata": {},
   "outputs": [],
   "source": [
    "def fitness_function(constraint_graph, solution):\n",
    "    count = 0\n",
    "    nodes = constraint_graph[ \"nodes\"]\n",
    "    edges = constraint_graph[\"edges\"]\n",
    "    for start, end in edges:\n",
    "        if solution[start][1] != solution[end][1]:\n",
    "            count = count + 1\n",
    "    return count"
   ]
  },
  {
   "cell_type": "markdown",
   "metadata": {},
   "source": [
    "<a id=\"color_map\"></a>\n",
    "## color_map\n",
    "\n",
    "This function colors a map provided as a constraint graph. The inputs are the constraint graph and a list of colors. This implementation utilizes a Genetic Algorithm with an initial population of random candidates, a defined period of execution, crossover for parent reproduction, mutations for children, and culling.  \n",
    "\n",
    "* **constraint_graph** Dict: the dictionary with keys: nodes, edges, and coordinates.\n",
    "* **color_list** List: the domain available to variables at the start of the CSP.\n",
    "* **trace** Bool: a flag that when set to True, prints out statements that show what it is currently doing (in terms of the four features)\n",
    "\n",
    "\n",
    "**returns** \n",
    "\n",
    "\n",
    "* **solution** List[Tuple[Str][Str]]: a list of (node name, assigned color) tuples, where the ordering matches the original ordering of nodes in the constraint_graph. For example, if we had `[\"A\", \"B\"]` as nodes and `[\"Yellow\", \"Green\"]` as colors, your function might return `[(\"A\", \"Yellow\"), (\"B\", \"Green\")]`If the CSP cannot find a solution, `None` is returned."
   ]
  },
  {
   "cell_type": "code",
   "execution_count": 6,
   "metadata": {},
   "outputs": [],
   "source": [
    "def color_map(constraint_graph, color_list, trace=False):\n",
    "    graph_object = Graph(constraint_graph, color_list, trace)\n",
    "    ordered_nodes = graph_object.degree_heuristic(trace)\n",
    "    colored_graph_object = deepcopy(graph_object).backtrack(deepcopy(ordered_nodes), 0, len(graph_object.get_nodes()), trace)\n",
    "    if not colored_graph_object == None:\n",
    "        if trace: print(\"Coloring found :)\")\n",
    "        return [(node.get_name(), node.get_color()) for node in colored_graph_object.get_nodes()]\n",
    "    if trace: print(\"Coloring not found :(\")\n",
    "    return None"
   ]
  },
  {
   "cell_type": "markdown",
   "metadata": {},
   "source": [
    "## Genetic Algorithms\n",
    "\n",
    "Color Europe from Assignment #4 using four colors: [\"red\", \"blue\", \"green\", \"yellow\"]. \n",
    "\n",
    "Your implementation should:\n",
    "\n",
    "* Start with a random population of candidates\n",
    "* Run for a defined number of generations\n",
    "* Select parents (implement both roulette and tournament, but use one)\n",
    "* Apply Crossover\n",
    "* Apply Mutation\n",
    "* Apply Culling (remove a fraction of the lowest fitness individuals from the new population)\n",
    "\n",
    "You'll need encoders/decoders to switch between genomes and phenomes. \n",
    "\n",
    "You'll need an approproate fitness function. \n",
    "\n",
    "You'll need a suite of tunable parameters (number of generations, crossover rate, location, mutation rate, location, value, culling rate, and so on).\n",
    "\n",
    "Every ten generations, print out the generation number, the fitness, genotype, and phenotype of the best individual in the population for the specific generation. Return the best individual of the entire run (in the same format).\n",
    "\n",
    "Feel free to port over helper functions from your solution to Assignment #4. "
   ]
  },
  {
   "cell_type": "markdown",
   "metadata": {
    "jp-MarkdownHeadingCollapsed": true
   },
   "source": [
    "## OPTIONAL. BONUS.\n",
    "\n",
    "Explore different settings for your parameter values and produce plots revealing the performance of your algorithm against the parameters."
   ]
  },
  {
   "cell_type": "markdown",
   "metadata": {},
   "source": [
    "## Before You Submit...\n",
    "\n",
    "1. Re-read the general instructions provided above, and\n",
    "2. Hit \"Kernel\"->\"Restart & Run All\"."
   ]
  }
 ],
 "metadata": {
  "kernelspec": {
   "display_name": "Python 3 (ipykernel)",
   "language": "python",
   "name": "python3"
  },
  "language_info": {
   "codemirror_mode": {
    "name": "ipython",
    "version": 3
   },
   "file_extension": ".py",
   "mimetype": "text/x-python",
   "name": "python",
   "nbconvert_exporter": "python",
   "pygments_lexer": "ipython3",
   "version": "3.9.13"
  },
  "toc": {
   "colors": {
    "hover_highlight": "#DAA520",
    "navigate_num": "#000000",
    "navigate_text": "#333333",
    "running_highlight": "#FF0000",
    "selected_highlight": "#FFD700",
    "sidebar_border": "#EEEEEE",
    "wrapper_background": "#FFFFFF"
   },
   "moveMenuLeft": true,
   "nav_menu": {
    "height": "120px",
    "width": "252px"
   },
   "navigate_menu": true,
   "number_sections": true,
   "sideBar": true,
   "threshold": 4,
   "toc_cell": false,
   "toc_section_display": "block",
   "toc_window_display": false,
   "widenNotebook": false
  }
 },
 "nbformat": 4,
 "nbformat_minor": 4
}
