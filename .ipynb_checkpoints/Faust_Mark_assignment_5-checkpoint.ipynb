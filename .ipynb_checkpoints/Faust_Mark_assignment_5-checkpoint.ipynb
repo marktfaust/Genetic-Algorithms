{
 "cells": [
  {
   "cell_type": "markdown",
   "metadata": {},
   "source": [
    "# Artificial Intelligence\n",
    "# 464/664\n",
    "# Assignment #5\n",
    "\n",
    "## General Directions for this Assignment\n",
    "\n",
    "00. We're using a Jupyter Notebook environment (tutorial available here: https://jupyter-notebook-beginner-guide.readthedocs.io/en/latest/what_is_jupyter.html),\n",
    "01. Read the entire notebook before beginning your work, \n",
    "02. Output format should be exactly as requested (it is your responsibility to make sure notebook looks as expected on Gradescope),\n",
    "03. Each helper function should be preceeded by documentation (Markdown cell),\n",
    "04. No comments in the code; anything worth mentioning should be included in the documentation,\n",
    "05. Use descriptive variable names,\n",
    "06. Functions should do only one thing,\n",
    "07. Check submission deadline on Gradescope, \n",
    "08. Rename the file to Last_First_assignment_5, \n",
    "09. Submit your notebook (as .ipynb, not PDF) using Gradescope, and\n",
    "10. Do not submit any other files.\n",
    "\n",
    "## Directions _not_ applicable for this Assignment:\n",
    "* Do not use classes,\n",
    "* Keep functions to 20 lines or less (including empty lines so do not add any),\n",
    "* Each helper function should be followed by three assert-style unit tests.\n",
    "\n",
    "## Before You Submit...\n",
    "\n",
    "1. Re-read the general instructions provided above, and\n",
    "2. Hit \"Kernel\"->\"Restart & Run All\"."
   ]
  },
  {
   "cell_type": "markdown",
   "metadata": {},
   "source": [
    "## Genetic Algorithms\n",
    "\n",
    "Color Europe from Assignment #4 using four colors: [\"red\", \"blue\", \"green\", \"yellow\"]. \n",
    "\n",
    "Your implementation should:\n",
    "\n",
    "* Start with a random population of candidates\n",
    "* Run for a defined number of generations\n",
    "* Select parents (implement both roulette and tournament, but use one)\n",
    "* Apply Crossover\n",
    "* Apply Mutation\n",
    "* Apply Culling (remove a fraction of the lowest fitness individuals from the new population)\n",
    "\n",
    "You'll need encoders/decoders to switch between genomes and phenomes. \n",
    "\n",
    "You'll need an approproate fitness function. \n",
    "\n",
    "You'll need a suite of tunable parameters (number of generations, crossover rate, location, mutation rate, location, value, culling rate, and so on).\n",
    "\n",
    "Every ten generations, print out the generation number, the fitness, genotype, and phenotype of the best individual in the population for the specific generation. Return the best individual of the entire run (in the same format).\n",
    "\n",
    "Feel free to port over helper functions from your solution to Assignment #4. "
   ]
  },
  {
   "cell_type": "markdown",
   "metadata": {
    "jp-MarkdownHeadingCollapsed": true
   },
   "source": [
    "## OPTIONAL. BONUS.\n",
    "\n",
    "Explore different settings for your parameter values and produce plots revealing the performance of your algorithm against the parameters."
   ]
  },
  {
   "cell_type": "markdown",
   "metadata": {},
   "source": [
    "## Before You Submit...\n",
    "\n",
    "1. Re-read the general instructions provided above, and\n",
    "2. Hit \"Kernel\"->\"Restart & Run All\"."
   ]
  }
 ],
 "metadata": {
  "kernelspec": {
   "display_name": "Python 3 (ipykernel)",
   "language": "python",
   "name": "python3"
  },
  "language_info": {
   "codemirror_mode": {
    "name": "ipython",
    "version": 3
   },
   "file_extension": ".py",
   "mimetype": "text/x-python",
   "name": "python",
   "nbconvert_exporter": "python",
   "pygments_lexer": "ipython3",
   "version": "3.9.13"
  },
  "toc": {
   "colors": {
    "hover_highlight": "#DAA520",
    "navigate_num": "#000000",
    "navigate_text": "#333333",
    "running_highlight": "#FF0000",
    "selected_highlight": "#FFD700",
    "sidebar_border": "#EEEEEE",
    "wrapper_background": "#FFFFFF"
   },
   "moveMenuLeft": true,
   "nav_menu": {
    "height": "120px",
    "width": "252px"
   },
   "navigate_menu": true,
   "number_sections": true,
   "sideBar": true,
   "threshold": 4,
   "toc_cell": false,
   "toc_section_display": "block",
   "toc_window_display": false,
   "widenNotebook": false
  }
 },
 "nbformat": 4,
 "nbformat_minor": 4
}
